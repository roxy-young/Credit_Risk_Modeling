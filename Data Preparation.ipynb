{
 "cells": [
  {
   "cell_type": "markdown",
   "id": "5060dc96",
   "metadata": {},
   "source": [
    "# Data Preparation"
   ]
  },
  {
   "cell_type": "code",
   "execution_count": 1,
   "id": "205e4fbc",
   "metadata": {},
   "outputs": [],
   "source": [
    "import pandas as pd\n",
    "import numpy as np"
   ]
  },
  {
   "cell_type": "code",
   "execution_count": 2,
   "id": "0fa64acb",
   "metadata": {},
   "outputs": [
    {
     "name": "stderr",
     "output_type": "stream",
     "text": [
      "/var/folders/cl/smsdpk8x42b4klg3pg8gnkmw0000gn/T/ipykernel_1183/2954675577.py:1: DtypeWarning: Columns (20) have mixed types. Specify dtype option on import or set low_memory=False.\n",
      "  loan_data_backup = pd.read_csv('loan_data_2007_2014.csv')\n"
     ]
    }
   ],
   "source": [
    "loan_data_backup = pd.read_csv('loan_data_2007_2014.csv')"
   ]
  },
  {
   "cell_type": "code",
   "execution_count": 3,
   "id": "6873eb8a",
   "metadata": {},
   "outputs": [],
   "source": [
    "loan_data = loan_data_backup"
   ]
  },
  {
   "cell_type": "code",
   "execution_count": 4,
   "id": "3c1c207d",
   "metadata": {},
   "outputs": [
    {
     "data": {
      "text/plain": [
       "array(['Unnamed: 0', 'id', 'member_id', 'loan_amnt', 'funded_amnt',\n",
       "       'funded_amnt_inv', 'term', 'int_rate', 'installment', 'grade',\n",
       "       'sub_grade', 'emp_title', 'emp_length', 'home_ownership',\n",
       "       'annual_inc', 'verification_status', 'issue_d', 'loan_status',\n",
       "       'pymnt_plan', 'url', 'desc', 'purpose', 'title', 'zip_code',\n",
       "       'addr_state', 'dti', 'delinq_2yrs', 'earliest_cr_line',\n",
       "       'inq_last_6mths', 'mths_since_last_delinq',\n",
       "       'mths_since_last_record', 'open_acc', 'pub_rec', 'revol_bal',\n",
       "       'revol_util', 'total_acc', 'initial_list_status', 'out_prncp',\n",
       "       'out_prncp_inv', 'total_pymnt', 'total_pymnt_inv',\n",
       "       'total_rec_prncp', 'total_rec_int', 'total_rec_late_fee',\n",
       "       'recoveries', 'collection_recovery_fee', 'last_pymnt_d',\n",
       "       'last_pymnt_amnt', 'next_pymnt_d', 'last_credit_pull_d',\n",
       "       'collections_12_mths_ex_med', 'mths_since_last_major_derog',\n",
       "       'policy_code', 'application_type', 'annual_inc_joint', 'dti_joint',\n",
       "       'verification_status_joint', 'acc_now_delinq', 'tot_coll_amt',\n",
       "       'tot_cur_bal', 'open_acc_6m', 'open_il_6m', 'open_il_12m',\n",
       "       'open_il_24m', 'mths_since_rcnt_il', 'total_bal_il', 'il_util',\n",
       "       'open_rv_12m', 'open_rv_24m', 'max_bal_bc', 'all_util',\n",
       "       'total_rev_hi_lim', 'inq_fi', 'total_cu_tl', 'inq_last_12m'],\n",
       "      dtype=object)"
      ]
     },
     "execution_count": 4,
     "metadata": {},
     "output_type": "execute_result"
    }
   ],
   "source": [
    "loan_data.columns.values"
   ]
  },
  {
   "cell_type": "code",
   "execution_count": 5,
   "id": "a6b1df2c",
   "metadata": {},
   "outputs": [
    {
     "name": "stdout",
     "output_type": "stream",
     "text": [
      "<class 'pandas.core.frame.DataFrame'>\n",
      "RangeIndex: 466285 entries, 0 to 466284\n",
      "Data columns (total 75 columns):\n",
      " #   Column                       Non-Null Count   Dtype  \n",
      "---  ------                       --------------   -----  \n",
      " 0   Unnamed: 0                   466285 non-null  int64  \n",
      " 1   id                           466285 non-null  int64  \n",
      " 2   member_id                    466285 non-null  int64  \n",
      " 3   loan_amnt                    466285 non-null  int64  \n",
      " 4   funded_amnt                  466285 non-null  int64  \n",
      " 5   funded_amnt_inv              466285 non-null  float64\n",
      " 6   term                         466285 non-null  object \n",
      " 7   int_rate                     466285 non-null  float64\n",
      " 8   installment                  466285 non-null  float64\n",
      " 9   grade                        466285 non-null  object \n",
      " 10  sub_grade                    466285 non-null  object \n",
      " 11  emp_title                    438697 non-null  object \n",
      " 12  emp_length                   445277 non-null  object \n",
      " 13  home_ownership               466285 non-null  object \n",
      " 14  annual_inc                   466281 non-null  float64\n",
      " 15  verification_status          466285 non-null  object \n",
      " 16  issue_d                      466285 non-null  object \n",
      " 17  loan_status                  466285 non-null  object \n",
      " 18  pymnt_plan                   466285 non-null  object \n",
      " 19  url                          466285 non-null  object \n",
      " 20  desc                         125981 non-null  object \n",
      " 21  purpose                      466285 non-null  object \n",
      " 22  title                        466264 non-null  object \n",
      " 23  zip_code                     466285 non-null  object \n",
      " 24  addr_state                   466285 non-null  object \n",
      " 25  dti                          466285 non-null  float64\n",
      " 26  delinq_2yrs                  466256 non-null  float64\n",
      " 27  earliest_cr_line             466256 non-null  object \n",
      " 28  inq_last_6mths               466256 non-null  float64\n",
      " 29  mths_since_last_delinq       215934 non-null  float64\n",
      " 30  mths_since_last_record       62638 non-null   float64\n",
      " 31  open_acc                     466256 non-null  float64\n",
      " 32  pub_rec                      466256 non-null  float64\n",
      " 33  revol_bal                    466285 non-null  int64  \n",
      " 34  revol_util                   465945 non-null  float64\n",
      " 35  total_acc                    466256 non-null  float64\n",
      " 36  initial_list_status          466285 non-null  object \n",
      " 37  out_prncp                    466285 non-null  float64\n",
      " 38  out_prncp_inv                466285 non-null  float64\n",
      " 39  total_pymnt                  466285 non-null  float64\n",
      " 40  total_pymnt_inv              466285 non-null  float64\n",
      " 41  total_rec_prncp              466285 non-null  float64\n",
      " 42  total_rec_int                466285 non-null  float64\n",
      " 43  total_rec_late_fee           466285 non-null  float64\n",
      " 44  recoveries                   466285 non-null  float64\n",
      " 45  collection_recovery_fee      466285 non-null  float64\n",
      " 46  last_pymnt_d                 465909 non-null  object \n",
      " 47  last_pymnt_amnt              466285 non-null  float64\n",
      " 48  next_pymnt_d                 239071 non-null  object \n",
      " 49  last_credit_pull_d           466243 non-null  object \n",
      " 50  collections_12_mths_ex_med   466140 non-null  float64\n",
      " 51  mths_since_last_major_derog  98974 non-null   float64\n",
      " 52  policy_code                  466285 non-null  int64  \n",
      " 53  application_type             466285 non-null  object \n",
      " 54  annual_inc_joint             0 non-null       float64\n",
      " 55  dti_joint                    0 non-null       float64\n",
      " 56  verification_status_joint    0 non-null       float64\n",
      " 57  acc_now_delinq               466256 non-null  float64\n",
      " 58  tot_coll_amt                 396009 non-null  float64\n",
      " 59  tot_cur_bal                  396009 non-null  float64\n",
      " 60  open_acc_6m                  0 non-null       float64\n",
      " 61  open_il_6m                   0 non-null       float64\n",
      " 62  open_il_12m                  0 non-null       float64\n",
      " 63  open_il_24m                  0 non-null       float64\n",
      " 64  mths_since_rcnt_il           0 non-null       float64\n",
      " 65  total_bal_il                 0 non-null       float64\n",
      " 66  il_util                      0 non-null       float64\n",
      " 67  open_rv_12m                  0 non-null       float64\n",
      " 68  open_rv_24m                  0 non-null       float64\n",
      " 69  max_bal_bc                   0 non-null       float64\n",
      " 70  all_util                     0 non-null       float64\n",
      " 71  total_rev_hi_lim             396009 non-null  float64\n",
      " 72  inq_fi                       0 non-null       float64\n",
      " 73  total_cu_tl                  0 non-null       float64\n",
      " 74  inq_last_12m                 0 non-null       float64\n",
      "dtypes: float64(46), int64(7), object(22)\n",
      "memory usage: 266.8+ MB\n"
     ]
    }
   ],
   "source": [
    "loan_data.info()"
   ]
  },
  {
   "cell_type": "code",
   "execution_count": 6,
   "id": "fa6d18d4",
   "metadata": {},
   "outputs": [
    {
     "data": {
      "text/plain": [
       "array(['10+ years', '< 1 year', '1 year', '3 years', '8 years', '9 years',\n",
       "       '4 years', '5 years', '6 years', '2 years', '7 years', nan],\n",
       "      dtype=object)"
      ]
     },
     "execution_count": 6,
     "metadata": {},
     "output_type": "execute_result"
    }
   ],
   "source": [
    "loan_data['emp_length'].unique()"
   ]
  },
  {
   "cell_type": "code",
   "execution_count": 7,
   "id": "5f3e34ae",
   "metadata": {},
   "outputs": [],
   "source": [
    "loan_data['emp_length_int'] = loan_data['emp_length'].str.replace('+ years','')\n",
    "loan_data['emp_length_int'] = loan_data['emp_length_int'].str.replace('< 1 year',str(0))\n",
    "loan_data['emp_length_int'] = loan_data['emp_length_int'].str.replace('n/a',str(0))\n",
    "loan_data['emp_length_int'] = loan_data['emp_length_int'].str.replace('1 year','1')\n",
    "loan_data['emp_length_int'] = loan_data['emp_length_int'].str.replace(' years','')\n"
   ]
  },
  {
   "cell_type": "code",
   "execution_count": 8,
   "id": "ebec421d",
   "metadata": {},
   "outputs": [
    {
     "data": {
      "text/plain": [
       "array(['10', '0', '1', '3', '8', '9', '4', '5', '6', '2', '7', nan],\n",
       "      dtype=object)"
      ]
     },
     "execution_count": 8,
     "metadata": {},
     "output_type": "execute_result"
    }
   ],
   "source": [
    "loan_data['emp_length_int'].unique()"
   ]
  },
  {
   "cell_type": "code",
   "execution_count": 9,
   "id": "f00fa3fc",
   "metadata": {},
   "outputs": [],
   "source": [
    "loan_data['emp_length_int'] = pd.to_numeric(loan_data['emp_length_int'])"
   ]
  },
  {
   "cell_type": "code",
   "execution_count": 10,
   "id": "d3ba4556",
   "metadata": {},
   "outputs": [
    {
     "data": {
      "text/plain": [
       "numpy.float64"
      ]
     },
     "execution_count": 10,
     "metadata": {},
     "output_type": "execute_result"
    }
   ],
   "source": [
    "type(loan_data['emp_length_int'][0])"
   ]
  },
  {
   "cell_type": "code",
   "execution_count": 11,
   "id": "de42e472",
   "metadata": {},
   "outputs": [
    {
     "data": {
      "text/plain": [
       "array([' 36 months', ' 60 months'], dtype=object)"
      ]
     },
     "execution_count": 11,
     "metadata": {},
     "output_type": "execute_result"
    }
   ],
   "source": [
    "loan_data['term'].unique()"
   ]
  },
  {
   "cell_type": "code",
   "execution_count": 12,
   "id": "979838ba",
   "metadata": {},
   "outputs": [
    {
     "data": {
      "text/plain": [
       "array([36, 60])"
      ]
     },
     "execution_count": 12,
     "metadata": {},
     "output_type": "execute_result"
    }
   ],
   "source": [
    "loan_data['term_int'] = loan_data['term'].str.replace(' months','')\n",
    "loan_data['term_int'] = pd.to_numeric(loan_data['term_int'])\n",
    "loan_data['term_int'].unique()\n"
   ]
  },
  {
   "cell_type": "code",
   "execution_count": 13,
   "id": "2fdfd4cc",
   "metadata": {},
   "outputs": [
    {
     "data": {
      "text/plain": [
       "numpy.int64"
      ]
     },
     "execution_count": 13,
     "metadata": {},
     "output_type": "execute_result"
    }
   ],
   "source": [
    "type(loan_data['term_int'][0])"
   ]
  },
  {
   "cell_type": "code",
   "execution_count": 14,
   "id": "74fb1a79",
   "metadata": {},
   "outputs": [
    {
     "data": {
      "text/plain": [
       "0         Jan-85\n",
       "1         Apr-99\n",
       "2         Nov-01\n",
       "3         Feb-96\n",
       "4         Jan-96\n",
       "           ...  \n",
       "466280    Apr-03\n",
       "466281    Jun-97\n",
       "466282    Dec-01\n",
       "466283    Feb-03\n",
       "466284    Feb-00\n",
       "Name: earliest_cr_line, Length: 466285, dtype: object"
      ]
     },
     "execution_count": 14,
     "metadata": {},
     "output_type": "execute_result"
    }
   ],
   "source": [
    "loan_data['earliest_cr_line']"
   ]
  },
  {
   "cell_type": "code",
   "execution_count": 15,
   "id": "2aea3319",
   "metadata": {},
   "outputs": [
    {
     "data": {
      "text/plain": [
       "0        1985-01-01\n",
       "1        1999-04-01\n",
       "2        2001-11-01\n",
       "3        1996-02-01\n",
       "4        1996-01-01\n",
       "            ...    \n",
       "466280   2003-04-01\n",
       "466281   1997-06-01\n",
       "466282   2001-12-01\n",
       "466283   2003-02-01\n",
       "466284   2000-02-01\n",
       "Name: earliest_cr_line_date, Length: 466285, dtype: datetime64[ns]"
      ]
     },
     "execution_count": 15,
     "metadata": {},
     "output_type": "execute_result"
    }
   ],
   "source": [
    "loan_data['earliest_cr_line_date'] = pd.to_datetime(loan_data['earliest_cr_line'],format = '%b-%y')\n",
    "loan_data['earliest_cr_line_date']                                          "
   ]
  },
  {
   "cell_type": "code",
   "execution_count": 16,
   "id": "1f301dec",
   "metadata": {},
   "outputs": [],
   "source": [
    "loan_data['mths_since_earliest_cr_line'] = round((pd.to_datetime('2017-12-01') - loan_data['earliest_cr_line_date']) / np.timedelta64(1,'M')) "
   ]
  },
  {
   "cell_type": "code",
   "execution_count": 17,
   "id": "3f7960b1",
   "metadata": {},
   "outputs": [
    {
     "data": {
      "text/plain": [
       "count    466256.000000\n",
       "mean        235.142031\n",
       "std          92.270010\n",
       "min        -601.000000\n",
       "25%         180.000000\n",
       "50%         221.000000\n",
       "75%         280.000000\n",
       "max         576.000000\n",
       "Name: mths_since_earliest_cr_line, dtype: float64"
      ]
     },
     "execution_count": 17,
     "metadata": {},
     "output_type": "execute_result"
    }
   ],
   "source": [
    "loan_data['mths_since_earliest_cr_line'].describe()"
   ]
  },
  {
   "cell_type": "code",
   "execution_count": 18,
   "id": "ae7fb1d3",
   "metadata": {},
   "outputs": [
    {
     "data": {
      "text/html": [
       "<div>\n",
       "<style scoped>\n",
       "    .dataframe tbody tr th:only-of-type {\n",
       "        vertical-align: middle;\n",
       "    }\n",
       "\n",
       "    .dataframe tbody tr th {\n",
       "        vertical-align: top;\n",
       "    }\n",
       "\n",
       "    .dataframe thead th {\n",
       "        text-align: right;\n",
       "    }\n",
       "</style>\n",
       "<table border=\"1\" class=\"dataframe\">\n",
       "  <thead>\n",
       "    <tr style=\"text-align: right;\">\n",
       "      <th></th>\n",
       "      <th>earliest_cr_line</th>\n",
       "      <th>earliest_cr_line_date</th>\n",
       "      <th>mths_since_earliest_cr_line</th>\n",
       "    </tr>\n",
       "  </thead>\n",
       "  <tbody>\n",
       "    <tr>\n",
       "      <th>1580</th>\n",
       "      <td>Sep-62</td>\n",
       "      <td>2062-09-01</td>\n",
       "      <td>-527.0</td>\n",
       "    </tr>\n",
       "    <tr>\n",
       "      <th>1770</th>\n",
       "      <td>Sep-68</td>\n",
       "      <td>2068-09-01</td>\n",
       "      <td>-598.0</td>\n",
       "    </tr>\n",
       "    <tr>\n",
       "      <th>2799</th>\n",
       "      <td>Sep-64</td>\n",
       "      <td>2064-09-01</td>\n",
       "      <td>-551.0</td>\n",
       "    </tr>\n",
       "    <tr>\n",
       "      <th>3282</th>\n",
       "      <td>Sep-67</td>\n",
       "      <td>2067-09-01</td>\n",
       "      <td>-586.0</td>\n",
       "    </tr>\n",
       "    <tr>\n",
       "      <th>3359</th>\n",
       "      <td>Feb-65</td>\n",
       "      <td>2065-02-01</td>\n",
       "      <td>-556.0</td>\n",
       "    </tr>\n",
       "    <tr>\n",
       "      <th>...</th>\n",
       "      <td>...</td>\n",
       "      <td>...</td>\n",
       "      <td>...</td>\n",
       "    </tr>\n",
       "    <tr>\n",
       "      <th>464003</th>\n",
       "      <td>Jan-68</td>\n",
       "      <td>2068-01-01</td>\n",
       "      <td>-590.0</td>\n",
       "    </tr>\n",
       "    <tr>\n",
       "      <th>464260</th>\n",
       "      <td>Jul-66</td>\n",
       "      <td>2066-07-01</td>\n",
       "      <td>-572.0</td>\n",
       "    </tr>\n",
       "    <tr>\n",
       "      <th>465100</th>\n",
       "      <td>Oct-67</td>\n",
       "      <td>2067-10-01</td>\n",
       "      <td>-587.0</td>\n",
       "    </tr>\n",
       "    <tr>\n",
       "      <th>465500</th>\n",
       "      <td>Sep-67</td>\n",
       "      <td>2067-09-01</td>\n",
       "      <td>-586.0</td>\n",
       "    </tr>\n",
       "    <tr>\n",
       "      <th>465655</th>\n",
       "      <td>Jan-56</td>\n",
       "      <td>2056-01-01</td>\n",
       "      <td>-449.0</td>\n",
       "    </tr>\n",
       "  </tbody>\n",
       "</table>\n",
       "<p>1169 rows × 3 columns</p>\n",
       "</div>"
      ],
      "text/plain": [
       "       earliest_cr_line earliest_cr_line_date  mths_since_earliest_cr_line\n",
       "1580             Sep-62            2062-09-01                       -527.0\n",
       "1770             Sep-68            2068-09-01                       -598.0\n",
       "2799             Sep-64            2064-09-01                       -551.0\n",
       "3282             Sep-67            2067-09-01                       -586.0\n",
       "3359             Feb-65            2065-02-01                       -556.0\n",
       "...                 ...                   ...                          ...\n",
       "464003           Jan-68            2068-01-01                       -590.0\n",
       "464260           Jul-66            2066-07-01                       -572.0\n",
       "465100           Oct-67            2067-10-01                       -587.0\n",
       "465500           Sep-67            2067-09-01                       -586.0\n",
       "465655           Jan-56            2056-01-01                       -449.0\n",
       "\n",
       "[1169 rows x 3 columns]"
      ]
     },
     "execution_count": 18,
     "metadata": {},
     "output_type": "execute_result"
    }
   ],
   "source": [
    "loan_data.loc[loan_data['mths_since_earliest_cr_line'] <0,['earliest_cr_line','earliest_cr_line_date','mths_since_earliest_cr_line']]"
   ]
  },
  {
   "cell_type": "code",
   "execution_count": 19,
   "id": "de35bd87",
   "metadata": {},
   "outputs": [],
   "source": [
    "loan_data.loc[loan_data['mths_since_earliest_cr_line'] <0,'mths_since_earliest_cr_line']= loan_data['mths_since_earliest_cr_line'].max()"
   ]
  },
  {
   "cell_type": "code",
   "execution_count": 20,
   "id": "d88fb3d4",
   "metadata": {},
   "outputs": [
    {
     "data": {
      "text/plain": [
       "72.0"
      ]
     },
     "execution_count": 20,
     "metadata": {},
     "output_type": "execute_result"
    }
   ],
   "source": [
    "min(loan_data['mths_since_earliest_cr_line'])"
   ]
  },
  {
   "cell_type": "code",
   "execution_count": 21,
   "id": "36f208c1",
   "metadata": {},
   "outputs": [
    {
     "data": {
      "text/plain": [
       "array(['Dec-11', 'Nov-11', 'Oct-11', 'Sep-11', 'Aug-11', 'Jul-11',\n",
       "       'Jun-11', 'May-11', 'Apr-11', 'Mar-11', 'Feb-11', 'Jan-11',\n",
       "       'Dec-10', 'Nov-10', 'Oct-10', 'Sep-10', 'Aug-10', 'Jul-10',\n",
       "       'Jun-10', 'May-10', 'Apr-10', 'Mar-10', 'Feb-10', 'Jan-10',\n",
       "       'Dec-09', 'Nov-09', 'Oct-09', 'Sep-09', 'Aug-09', 'Jul-09',\n",
       "       'Jun-09', 'May-09', 'Apr-09', 'Mar-09', 'Feb-09', 'Jan-09',\n",
       "       'Dec-08', 'Nov-08', 'Oct-08', 'Sep-08', 'Aug-08', 'Jul-08',\n",
       "       'Jun-08', 'May-08', 'Apr-08', 'Mar-08', 'Feb-08', 'Jan-08',\n",
       "       'Dec-07', 'Nov-07', 'Oct-07', 'Sep-07', 'Aug-07', 'Jul-07',\n",
       "       'Jun-07', 'Dec-13', 'Nov-13', 'Oct-13', 'Sep-13', 'Aug-13',\n",
       "       'Jul-13', 'Jun-13', 'May-13', 'Apr-13', 'Mar-13', 'Feb-13',\n",
       "       'Jan-13', 'Dec-12', 'Nov-12', 'Oct-12', 'Sep-12', 'Aug-12',\n",
       "       'Jul-12', 'Jun-12', 'May-12', 'Apr-12', 'Mar-12', 'Feb-12',\n",
       "       'Jan-12', 'Dec-14', 'Nov-14', 'Oct-14', 'Sep-14', 'Aug-14',\n",
       "       'Jul-14', 'Jun-14', 'May-14', 'Apr-14', 'Mar-14', 'Feb-14',\n",
       "       'Jan-14'], dtype=object)"
      ]
     },
     "execution_count": 21,
     "metadata": {},
     "output_type": "execute_result"
    }
   ],
   "source": [
    "loan_data['issue_d'].unique()"
   ]
  },
  {
   "cell_type": "code",
   "execution_count": 22,
   "id": "329c91ee",
   "metadata": {},
   "outputs": [],
   "source": [
    "loan_data['issue_date'] = pd.to_datetime(loan_data['issue_d'],format = '%b-%y')"
   ]
  },
  {
   "cell_type": "code",
   "execution_count": 23,
   "id": "c6d49b4d",
   "metadata": {},
   "outputs": [
    {
     "data": {
      "text/plain": [
       "<DatetimeArray>\n",
       "['2011-12-01 00:00:00', '2011-11-01 00:00:00', '2011-10-01 00:00:00',\n",
       " '2011-09-01 00:00:00', '2011-08-01 00:00:00', '2011-07-01 00:00:00',\n",
       " '2011-06-01 00:00:00', '2011-05-01 00:00:00', '2011-04-01 00:00:00',\n",
       " '2011-03-01 00:00:00', '2011-02-01 00:00:00', '2011-01-01 00:00:00',\n",
       " '2010-12-01 00:00:00', '2010-11-01 00:00:00', '2010-10-01 00:00:00',\n",
       " '2010-09-01 00:00:00', '2010-08-01 00:00:00', '2010-07-01 00:00:00',\n",
       " '2010-06-01 00:00:00', '2010-05-01 00:00:00', '2010-04-01 00:00:00',\n",
       " '2010-03-01 00:00:00', '2010-02-01 00:00:00', '2010-01-01 00:00:00',\n",
       " '2009-12-01 00:00:00', '2009-11-01 00:00:00', '2009-10-01 00:00:00',\n",
       " '2009-09-01 00:00:00', '2009-08-01 00:00:00', '2009-07-01 00:00:00',\n",
       " '2009-06-01 00:00:00', '2009-05-01 00:00:00', '2009-04-01 00:00:00',\n",
       " '2009-03-01 00:00:00', '2009-02-01 00:00:00', '2009-01-01 00:00:00',\n",
       " '2008-12-01 00:00:00', '2008-11-01 00:00:00', '2008-10-01 00:00:00',\n",
       " '2008-09-01 00:00:00', '2008-08-01 00:00:00', '2008-07-01 00:00:00',\n",
       " '2008-06-01 00:00:00', '2008-05-01 00:00:00', '2008-04-01 00:00:00',\n",
       " '2008-03-01 00:00:00', '2008-02-01 00:00:00', '2008-01-01 00:00:00',\n",
       " '2007-12-01 00:00:00', '2007-11-01 00:00:00', '2007-10-01 00:00:00',\n",
       " '2007-09-01 00:00:00', '2007-08-01 00:00:00', '2007-07-01 00:00:00',\n",
       " '2007-06-01 00:00:00', '2013-12-01 00:00:00', '2013-11-01 00:00:00',\n",
       " '2013-10-01 00:00:00', '2013-09-01 00:00:00', '2013-08-01 00:00:00',\n",
       " '2013-07-01 00:00:00', '2013-06-01 00:00:00', '2013-05-01 00:00:00',\n",
       " '2013-04-01 00:00:00', '2013-03-01 00:00:00', '2013-02-01 00:00:00',\n",
       " '2013-01-01 00:00:00', '2012-12-01 00:00:00', '2012-11-01 00:00:00',\n",
       " '2012-10-01 00:00:00', '2012-09-01 00:00:00', '2012-08-01 00:00:00',\n",
       " '2012-07-01 00:00:00', '2012-06-01 00:00:00', '2012-05-01 00:00:00',\n",
       " '2012-04-01 00:00:00', '2012-03-01 00:00:00', '2012-02-01 00:00:00',\n",
       " '2012-01-01 00:00:00', '2014-12-01 00:00:00', '2014-11-01 00:00:00',\n",
       " '2014-10-01 00:00:00', '2014-09-01 00:00:00', '2014-08-01 00:00:00',\n",
       " '2014-07-01 00:00:00', '2014-06-01 00:00:00', '2014-05-01 00:00:00',\n",
       " '2014-04-01 00:00:00', '2014-03-01 00:00:00', '2014-02-01 00:00:00',\n",
       " '2014-01-01 00:00:00']\n",
       "Length: 91, dtype: datetime64[ns]"
      ]
     },
     "execution_count": 23,
     "metadata": {},
     "output_type": "execute_result"
    }
   ],
   "source": [
    "loan_data['issue_date'].unique()"
   ]
  },
  {
   "cell_type": "code",
   "execution_count": 24,
   "id": "7dc811a4",
   "metadata": {},
   "outputs": [],
   "source": [
    "loan_data['mth_issue_date']=round((pd.to_datetime('2017-12-01') - loan_data['issue_date']) / np.timedelta64(1,'M'))"
   ]
  },
  {
   "cell_type": "code",
   "execution_count": 25,
   "id": "eb426426",
   "metadata": {},
   "outputs": [
    {
     "data": {
      "text/plain": [
       "count    466285.000000\n",
       "mean         50.204806\n",
       "std          14.190212\n",
       "min          35.000000\n",
       "25%          40.000000\n",
       "50%          46.000000\n",
       "75%          56.000000\n",
       "max         124.000000\n",
       "Name: mth_issue_date, dtype: float64"
      ]
     },
     "execution_count": 25,
     "metadata": {},
     "output_type": "execute_result"
    }
   ],
   "source": [
    "loan_data['mth_issue_date'].describe()"
   ]
  },
  {
   "cell_type": "code",
   "execution_count": 26,
   "id": "8f9c503e",
   "metadata": {},
   "outputs": [
    {
     "data": {
      "text/html": [
       "<div>\n",
       "<style scoped>\n",
       "    .dataframe tbody tr th:only-of-type {\n",
       "        vertical-align: middle;\n",
       "    }\n",
       "\n",
       "    .dataframe tbody tr th {\n",
       "        vertical-align: top;\n",
       "    }\n",
       "\n",
       "    .dataframe thead th {\n",
       "        text-align: right;\n",
       "    }\n",
       "</style>\n",
       "<table border=\"1\" class=\"dataframe\">\n",
       "  <thead>\n",
       "    <tr style=\"text-align: right;\">\n",
       "      <th></th>\n",
       "      <th>grade:A</th>\n",
       "      <th>grade:B</th>\n",
       "      <th>grade:C</th>\n",
       "      <th>grade:D</th>\n",
       "      <th>grade:E</th>\n",
       "      <th>grade:F</th>\n",
       "      <th>grade:G</th>\n",
       "    </tr>\n",
       "  </thead>\n",
       "  <tbody>\n",
       "    <tr>\n",
       "      <th>0</th>\n",
       "      <td>False</td>\n",
       "      <td>True</td>\n",
       "      <td>False</td>\n",
       "      <td>False</td>\n",
       "      <td>False</td>\n",
       "      <td>False</td>\n",
       "      <td>False</td>\n",
       "    </tr>\n",
       "    <tr>\n",
       "      <th>1</th>\n",
       "      <td>False</td>\n",
       "      <td>False</td>\n",
       "      <td>True</td>\n",
       "      <td>False</td>\n",
       "      <td>False</td>\n",
       "      <td>False</td>\n",
       "      <td>False</td>\n",
       "    </tr>\n",
       "    <tr>\n",
       "      <th>2</th>\n",
       "      <td>False</td>\n",
       "      <td>False</td>\n",
       "      <td>True</td>\n",
       "      <td>False</td>\n",
       "      <td>False</td>\n",
       "      <td>False</td>\n",
       "      <td>False</td>\n",
       "    </tr>\n",
       "    <tr>\n",
       "      <th>3</th>\n",
       "      <td>False</td>\n",
       "      <td>False</td>\n",
       "      <td>True</td>\n",
       "      <td>False</td>\n",
       "      <td>False</td>\n",
       "      <td>False</td>\n",
       "      <td>False</td>\n",
       "    </tr>\n",
       "    <tr>\n",
       "      <th>4</th>\n",
       "      <td>False</td>\n",
       "      <td>True</td>\n",
       "      <td>False</td>\n",
       "      <td>False</td>\n",
       "      <td>False</td>\n",
       "      <td>False</td>\n",
       "      <td>False</td>\n",
       "    </tr>\n",
       "    <tr>\n",
       "      <th>...</th>\n",
       "      <td>...</td>\n",
       "      <td>...</td>\n",
       "      <td>...</td>\n",
       "      <td>...</td>\n",
       "      <td>...</td>\n",
       "      <td>...</td>\n",
       "      <td>...</td>\n",
       "    </tr>\n",
       "    <tr>\n",
       "      <th>466280</th>\n",
       "      <td>False</td>\n",
       "      <td>False</td>\n",
       "      <td>True</td>\n",
       "      <td>False</td>\n",
       "      <td>False</td>\n",
       "      <td>False</td>\n",
       "      <td>False</td>\n",
       "    </tr>\n",
       "    <tr>\n",
       "      <th>466281</th>\n",
       "      <td>False</td>\n",
       "      <td>False</td>\n",
       "      <td>False</td>\n",
       "      <td>True</td>\n",
       "      <td>False</td>\n",
       "      <td>False</td>\n",
       "      <td>False</td>\n",
       "    </tr>\n",
       "    <tr>\n",
       "      <th>466282</th>\n",
       "      <td>False</td>\n",
       "      <td>False</td>\n",
       "      <td>False</td>\n",
       "      <td>True</td>\n",
       "      <td>False</td>\n",
       "      <td>False</td>\n",
       "      <td>False</td>\n",
       "    </tr>\n",
       "    <tr>\n",
       "      <th>466283</th>\n",
       "      <td>True</td>\n",
       "      <td>False</td>\n",
       "      <td>False</td>\n",
       "      <td>False</td>\n",
       "      <td>False</td>\n",
       "      <td>False</td>\n",
       "      <td>False</td>\n",
       "    </tr>\n",
       "    <tr>\n",
       "      <th>466284</th>\n",
       "      <td>False</td>\n",
       "      <td>False</td>\n",
       "      <td>False</td>\n",
       "      <td>True</td>\n",
       "      <td>False</td>\n",
       "      <td>False</td>\n",
       "      <td>False</td>\n",
       "    </tr>\n",
       "  </tbody>\n",
       "</table>\n",
       "<p>466285 rows × 7 columns</p>\n",
       "</div>"
      ],
      "text/plain": [
       "        grade:A  grade:B  grade:C  grade:D  grade:E  grade:F  grade:G\n",
       "0         False     True    False    False    False    False    False\n",
       "1         False    False     True    False    False    False    False\n",
       "2         False    False     True    False    False    False    False\n",
       "3         False    False     True    False    False    False    False\n",
       "4         False     True    False    False    False    False    False\n",
       "...         ...      ...      ...      ...      ...      ...      ...\n",
       "466280    False    False     True    False    False    False    False\n",
       "466281    False    False    False     True    False    False    False\n",
       "466282    False    False    False     True    False    False    False\n",
       "466283     True    False    False    False    False    False    False\n",
       "466284    False    False    False     True    False    False    False\n",
       "\n",
       "[466285 rows x 7 columns]"
      ]
     },
     "execution_count": 26,
     "metadata": {},
     "output_type": "execute_result"
    }
   ],
   "source": [
    "pd.get_dummies(loan_data['grade'],prefix = 'grade',prefix_sep = ':')"
   ]
  },
  {
   "cell_type": "code",
   "execution_count": 27,
   "id": "ce577108",
   "metadata": {},
   "outputs": [
    {
     "ename": "KeyboardInterrupt",
     "evalue": "",
     "output_type": "error",
     "traceback": [
      "\u001b[0;31m---------------------------------------------------------------------------\u001b[0m",
      "\u001b[0;31mKeyboardInterrupt\u001b[0m                         Traceback (most recent call last)",
      "Cell \u001b[0;32mIn[27], line 3\u001b[0m\n\u001b[1;32m      1\u001b[0m loan_data_dummies \u001b[38;5;241m=\u001b[39m [pd\u001b[38;5;241m.\u001b[39mget_dummies(loan_data[\u001b[38;5;124m'\u001b[39m\u001b[38;5;124mgrade\u001b[39m\u001b[38;5;124m'\u001b[39m], prefix \u001b[38;5;241m=\u001b[39m \u001b[38;5;124m'\u001b[39m\u001b[38;5;124mgrade\u001b[39m\u001b[38;5;124m'\u001b[39m, prefix_sep \u001b[38;5;241m=\u001b[39m \u001b[38;5;124m'\u001b[39m\u001b[38;5;124m:\u001b[39m\u001b[38;5;124m'\u001b[39m),\n\u001b[1;32m      2\u001b[0m                      pd\u001b[38;5;241m.\u001b[39mget_dummies(loan_data[\u001b[38;5;124m'\u001b[39m\u001b[38;5;124msub_grade\u001b[39m\u001b[38;5;124m'\u001b[39m], prefix \u001b[38;5;241m=\u001b[39m \u001b[38;5;124m'\u001b[39m\u001b[38;5;124msub_grade\u001b[39m\u001b[38;5;124m'\u001b[39m, prefix_sep \u001b[38;5;241m=\u001b[39m \u001b[38;5;124m'\u001b[39m\u001b[38;5;124m:\u001b[39m\u001b[38;5;124m'\u001b[39m),\n\u001b[0;32m----> 3\u001b[0m                      pd\u001b[38;5;241m.\u001b[39mget_dummies(loan_data[\u001b[38;5;124m'\u001b[39m\u001b[38;5;124mhome_ownership\u001b[39m\u001b[38;5;124m'\u001b[39m], prefix \u001b[38;5;241m=\u001b[39m \u001b[38;5;124m'\u001b[39m\u001b[38;5;124mhome_ownership\u001b[39m\u001b[38;5;124m'\u001b[39m, prefix_sep \u001b[38;5;241m=\u001b[39m \u001b[38;5;124m'\u001b[39m\u001b[38;5;124m:\u001b[39m\u001b[38;5;124m'\u001b[39m),\n\u001b[1;32m      4\u001b[0m                      pd\u001b[38;5;241m.\u001b[39mget_dummies(loan_data[\u001b[38;5;124m'\u001b[39m\u001b[38;5;124mverification_status\u001b[39m\u001b[38;5;124m'\u001b[39m], prefix \u001b[38;5;241m=\u001b[39m \u001b[38;5;124m'\u001b[39m\u001b[38;5;124mverification_status\u001b[39m\u001b[38;5;124m'\u001b[39m, prefix_sep \u001b[38;5;241m=\u001b[39m \u001b[38;5;124m'\u001b[39m\u001b[38;5;124m:\u001b[39m\u001b[38;5;124m'\u001b[39m),\n\u001b[1;32m      5\u001b[0m                      pd\u001b[38;5;241m.\u001b[39mget_dummies(loan_data[\u001b[38;5;124m'\u001b[39m\u001b[38;5;124mloan_status\u001b[39m\u001b[38;5;124m'\u001b[39m], prefix \u001b[38;5;241m=\u001b[39m \u001b[38;5;124m'\u001b[39m\u001b[38;5;124mloan_status\u001b[39m\u001b[38;5;124m'\u001b[39m, prefix_sep \u001b[38;5;241m=\u001b[39m \u001b[38;5;124m'\u001b[39m\u001b[38;5;124m:\u001b[39m\u001b[38;5;124m'\u001b[39m),\n\u001b[1;32m      6\u001b[0m                      pd\u001b[38;5;241m.\u001b[39mget_dummies(loan_data[\u001b[38;5;124m'\u001b[39m\u001b[38;5;124mpurpose\u001b[39m\u001b[38;5;124m'\u001b[39m], prefix \u001b[38;5;241m=\u001b[39m \u001b[38;5;124m'\u001b[39m\u001b[38;5;124mpurpose\u001b[39m\u001b[38;5;124m'\u001b[39m, prefix_sep \u001b[38;5;241m=\u001b[39m \u001b[38;5;124m'\u001b[39m\u001b[38;5;124m:\u001b[39m\u001b[38;5;124m'\u001b[39m),\n\u001b[1;32m      7\u001b[0m                      pd\u001b[38;5;241m.\u001b[39mget_dummies(loan_data[\u001b[38;5;124m'\u001b[39m\u001b[38;5;124maddr_state\u001b[39m\u001b[38;5;124m'\u001b[39m], prefix \u001b[38;5;241m=\u001b[39m \u001b[38;5;124m'\u001b[39m\u001b[38;5;124maddr_state\u001b[39m\u001b[38;5;124m'\u001b[39m, prefix_sep \u001b[38;5;241m=\u001b[39m \u001b[38;5;124m'\u001b[39m\u001b[38;5;124m:\u001b[39m\u001b[38;5;124m'\u001b[39m),\n\u001b[1;32m      8\u001b[0m                      pd\u001b[38;5;241m.\u001b[39mget_dummies(loan_data[\u001b[38;5;124m'\u001b[39m\u001b[38;5;124minitial_list_status\u001b[39m\u001b[38;5;124m'\u001b[39m], prefix \u001b[38;5;241m=\u001b[39m \u001b[38;5;124m'\u001b[39m\u001b[38;5;124minitial_list_status\u001b[39m\u001b[38;5;124m'\u001b[39m, prefix_sep \u001b[38;5;241m=\u001b[39m \u001b[38;5;124m'\u001b[39m\u001b[38;5;124m:\u001b[39m\u001b[38;5;124m'\u001b[39m)]\n",
      "File \u001b[0;32m~/anaconda3/lib/python3.11/site-packages/pandas/core/reshape/encoding.py:215\u001b[0m, in \u001b[0;36mget_dummies\u001b[0;34m(data, prefix, prefix_sep, dummy_na, columns, sparse, drop_first, dtype)\u001b[0m\n\u001b[1;32m    213\u001b[0m     result \u001b[38;5;241m=\u001b[39m concat(with_dummies, axis\u001b[38;5;241m=\u001b[39m\u001b[38;5;241m1\u001b[39m)\n\u001b[1;32m    214\u001b[0m \u001b[38;5;28;01melse\u001b[39;00m:\n\u001b[0;32m--> 215\u001b[0m     result \u001b[38;5;241m=\u001b[39m _get_dummies_1d(\n\u001b[1;32m    216\u001b[0m         data,\n\u001b[1;32m    217\u001b[0m         prefix,\n\u001b[1;32m    218\u001b[0m         prefix_sep,\n\u001b[1;32m    219\u001b[0m         dummy_na,\n\u001b[1;32m    220\u001b[0m         sparse\u001b[38;5;241m=\u001b[39msparse,\n\u001b[1;32m    221\u001b[0m         drop_first\u001b[38;5;241m=\u001b[39mdrop_first,\n\u001b[1;32m    222\u001b[0m         dtype\u001b[38;5;241m=\u001b[39mdtype,\n\u001b[1;32m    223\u001b[0m     )\n\u001b[1;32m    224\u001b[0m \u001b[38;5;28;01mreturn\u001b[39;00m result\n",
      "File \u001b[0;32m~/anaconda3/lib/python3.11/site-packages/pandas/core/reshape/encoding.py:239\u001b[0m, in \u001b[0;36m_get_dummies_1d\u001b[0;34m(data, prefix, prefix_sep, dummy_na, sparse, drop_first, dtype)\u001b[0m\n\u001b[1;32m    236\u001b[0m \u001b[38;5;28;01mfrom\u001b[39;00m \u001b[38;5;21;01mpandas\u001b[39;00m\u001b[38;5;21;01m.\u001b[39;00m\u001b[38;5;21;01mcore\u001b[39;00m\u001b[38;5;21;01m.\u001b[39;00m\u001b[38;5;21;01mreshape\u001b[39;00m\u001b[38;5;21;01m.\u001b[39;00m\u001b[38;5;21;01mconcat\u001b[39;00m \u001b[38;5;28;01mimport\u001b[39;00m concat\n\u001b[1;32m    238\u001b[0m \u001b[38;5;66;03m# Series avoids inconsistent NaN handling\u001b[39;00m\n\u001b[0;32m--> 239\u001b[0m codes, levels \u001b[38;5;241m=\u001b[39m factorize_from_iterable(Series(data, copy\u001b[38;5;241m=\u001b[39m\u001b[38;5;28;01mFalse\u001b[39;00m))\n\u001b[1;32m    241\u001b[0m \u001b[38;5;28;01mif\u001b[39;00m dtype \u001b[38;5;129;01mis\u001b[39;00m \u001b[38;5;28;01mNone\u001b[39;00m:\n\u001b[1;32m    242\u001b[0m     dtype \u001b[38;5;241m=\u001b[39m np\u001b[38;5;241m.\u001b[39mdtype(\u001b[38;5;28mbool\u001b[39m)\n",
      "File \u001b[0;32m~/anaconda3/lib/python3.11/site-packages/pandas/core/arrays/categorical.py:2576\u001b[0m, in \u001b[0;36mfactorize_from_iterable\u001b[0;34m(values)\u001b[0m\n\u001b[1;32m   2571\u001b[0m     codes \u001b[38;5;241m=\u001b[39m values\u001b[38;5;241m.\u001b[39mcodes\n\u001b[1;32m   2572\u001b[0m \u001b[38;5;28;01melse\u001b[39;00m:\n\u001b[1;32m   2573\u001b[0m     \u001b[38;5;66;03m# The value of ordered is irrelevant since we don't use cat as such,\u001b[39;00m\n\u001b[1;32m   2574\u001b[0m     \u001b[38;5;66;03m# but only the resulting categories, the order of which is independent\u001b[39;00m\n\u001b[1;32m   2575\u001b[0m     \u001b[38;5;66;03m# from ordered. Set ordered to False as default. See GH #15457\u001b[39;00m\n\u001b[0;32m-> 2576\u001b[0m     cat \u001b[38;5;241m=\u001b[39m Categorical(values, ordered\u001b[38;5;241m=\u001b[39m\u001b[38;5;28;01mFalse\u001b[39;00m)\n\u001b[1;32m   2577\u001b[0m     categories \u001b[38;5;241m=\u001b[39m cat\u001b[38;5;241m.\u001b[39mcategories\n\u001b[1;32m   2578\u001b[0m     codes \u001b[38;5;241m=\u001b[39m cat\u001b[38;5;241m.\u001b[39mcodes\n",
      "File \u001b[0;32m~/anaconda3/lib/python3.11/site-packages/pandas/core/arrays/categorical.py:425\u001b[0m, in \u001b[0;36mCategorical.__init__\u001b[0;34m(self, values, categories, ordered, dtype, fastpath, copy)\u001b[0m\n\u001b[1;32m    423\u001b[0m \u001b[38;5;28;01mif\u001b[39;00m dtype\u001b[38;5;241m.\u001b[39mcategories \u001b[38;5;129;01mis\u001b[39;00m \u001b[38;5;28;01mNone\u001b[39;00m:\n\u001b[1;32m    424\u001b[0m     \u001b[38;5;28;01mtry\u001b[39;00m:\n\u001b[0;32m--> 425\u001b[0m         codes, categories \u001b[38;5;241m=\u001b[39m factorize(values, sort\u001b[38;5;241m=\u001b[39m\u001b[38;5;28;01mTrue\u001b[39;00m)\n\u001b[1;32m    426\u001b[0m     \u001b[38;5;28;01mexcept\u001b[39;00m \u001b[38;5;167;01mTypeError\u001b[39;00m \u001b[38;5;28;01mas\u001b[39;00m err:\n\u001b[1;32m    427\u001b[0m         codes, categories \u001b[38;5;241m=\u001b[39m factorize(values, sort\u001b[38;5;241m=\u001b[39m\u001b[38;5;28;01mFalse\u001b[39;00m)\n",
      "File \u001b[0;32m~/anaconda3/lib/python3.11/site-packages/pandas/core/algorithms.py:748\u001b[0m, in \u001b[0;36mfactorize\u001b[0;34m(values, sort, use_na_sentinel, size_hint)\u001b[0m\n\u001b[1;32m    739\u001b[0m \u001b[38;5;66;03m# Implementation notes: This method is responsible for 3 things\u001b[39;00m\n\u001b[1;32m    740\u001b[0m \u001b[38;5;66;03m# 1.) coercing data to array-like (ndarray, Index, extension array)\u001b[39;00m\n\u001b[1;32m    741\u001b[0m \u001b[38;5;66;03m# 2.) factorizing codes and uniques\u001b[39;00m\n\u001b[0;32m   (...)\u001b[0m\n\u001b[1;32m    745\u001b[0m \u001b[38;5;66;03m# responsible only for factorization. All data coercion, sorting and boxing\u001b[39;00m\n\u001b[1;32m    746\u001b[0m \u001b[38;5;66;03m# should happen here.\u001b[39;00m\n\u001b[1;32m    747\u001b[0m \u001b[38;5;28;01mif\u001b[39;00m \u001b[38;5;28misinstance\u001b[39m(values, (ABCIndex, ABCSeries)):\n\u001b[0;32m--> 748\u001b[0m     \u001b[38;5;28;01mreturn\u001b[39;00m values\u001b[38;5;241m.\u001b[39mfactorize(sort\u001b[38;5;241m=\u001b[39msort, use_na_sentinel\u001b[38;5;241m=\u001b[39muse_na_sentinel)\n\u001b[1;32m    750\u001b[0m values \u001b[38;5;241m=\u001b[39m _ensure_arraylike(values)\n\u001b[1;32m    751\u001b[0m original \u001b[38;5;241m=\u001b[39m values\n",
      "File \u001b[0;32m~/anaconda3/lib/python3.11/site-packages/pandas/core/base.py:1164\u001b[0m, in \u001b[0;36mIndexOpsMixin.factorize\u001b[0;34m(self, sort, use_na_sentinel)\u001b[0m\n\u001b[1;32m   1146\u001b[0m \u001b[38;5;129m@doc\u001b[39m(\n\u001b[1;32m   1147\u001b[0m     algorithms\u001b[38;5;241m.\u001b[39mfactorize,\n\u001b[1;32m   1148\u001b[0m     values\u001b[38;5;241m=\u001b[39m\u001b[38;5;124m\"\u001b[39m\u001b[38;5;124m\"\u001b[39m,\n\u001b[0;32m   (...)\u001b[0m\n\u001b[1;32m   1162\u001b[0m     use_na_sentinel: \u001b[38;5;28mbool\u001b[39m \u001b[38;5;241m=\u001b[39m \u001b[38;5;28;01mTrue\u001b[39;00m,\n\u001b[1;32m   1163\u001b[0m ) \u001b[38;5;241m-\u001b[39m\u001b[38;5;241m>\u001b[39m \u001b[38;5;28mtuple\u001b[39m[npt\u001b[38;5;241m.\u001b[39mNDArray[np\u001b[38;5;241m.\u001b[39mintp], Index]:\n\u001b[0;32m-> 1164\u001b[0m     codes, uniques \u001b[38;5;241m=\u001b[39m algorithms\u001b[38;5;241m.\u001b[39mfactorize(\n\u001b[1;32m   1165\u001b[0m         \u001b[38;5;28mself\u001b[39m\u001b[38;5;241m.\u001b[39m_values, sort\u001b[38;5;241m=\u001b[39msort, use_na_sentinel\u001b[38;5;241m=\u001b[39muse_na_sentinel\n\u001b[1;32m   1166\u001b[0m     )\n\u001b[1;32m   1167\u001b[0m     \u001b[38;5;28;01mif\u001b[39;00m uniques\u001b[38;5;241m.\u001b[39mdtype \u001b[38;5;241m==\u001b[39m np\u001b[38;5;241m.\u001b[39mfloat16:\n\u001b[1;32m   1168\u001b[0m         uniques \u001b[38;5;241m=\u001b[39m uniques\u001b[38;5;241m.\u001b[39mastype(np\u001b[38;5;241m.\u001b[39mfloat32)\n",
      "File \u001b[0;32m~/anaconda3/lib/python3.11/site-packages/pandas/core/algorithms.py:787\u001b[0m, in \u001b[0;36mfactorize\u001b[0;34m(values, sort, use_na_sentinel, size_hint)\u001b[0m\n\u001b[1;32m    780\u001b[0m     codes, uniques \u001b[38;5;241m=\u001b[39m factorize_array(\n\u001b[1;32m    781\u001b[0m         values,\n\u001b[1;32m    782\u001b[0m         use_na_sentinel\u001b[38;5;241m=\u001b[39muse_na_sentinel,\n\u001b[1;32m    783\u001b[0m         size_hint\u001b[38;5;241m=\u001b[39msize_hint,\n\u001b[1;32m    784\u001b[0m     )\n\u001b[1;32m    786\u001b[0m \u001b[38;5;28;01mif\u001b[39;00m sort \u001b[38;5;129;01mand\u001b[39;00m \u001b[38;5;28mlen\u001b[39m(uniques) \u001b[38;5;241m>\u001b[39m \u001b[38;5;241m0\u001b[39m:\n\u001b[0;32m--> 787\u001b[0m     uniques, codes \u001b[38;5;241m=\u001b[39m safe_sort(\n\u001b[1;32m    788\u001b[0m         uniques,\n\u001b[1;32m    789\u001b[0m         codes,\n\u001b[1;32m    790\u001b[0m         use_na_sentinel\u001b[38;5;241m=\u001b[39muse_na_sentinel,\n\u001b[1;32m    791\u001b[0m         assume_unique\u001b[38;5;241m=\u001b[39m\u001b[38;5;28;01mTrue\u001b[39;00m,\n\u001b[1;32m    792\u001b[0m         verify\u001b[38;5;241m=\u001b[39m\u001b[38;5;28;01mFalse\u001b[39;00m,\n\u001b[1;32m    793\u001b[0m     )\n\u001b[1;32m    795\u001b[0m uniques \u001b[38;5;241m=\u001b[39m _reconstruct_data(uniques, original\u001b[38;5;241m.\u001b[39mdtype, original)\n\u001b[1;32m    797\u001b[0m \u001b[38;5;28;01mreturn\u001b[39;00m codes, uniques\n",
      "File \u001b[0;32m~/anaconda3/lib/python3.11/site-packages/pandas/core/algorithms.py:1579\u001b[0m, in \u001b[0;36msafe_sort\u001b[0;34m(values, codes, use_na_sentinel, assume_unique, verify)\u001b[0m\n\u001b[1;32m   1576\u001b[0m \u001b[38;5;28;01mif\u001b[39;00m use_na_sentinel:\n\u001b[1;32m   1577\u001b[0m     \u001b[38;5;66;03m# take_nd is faster, but only works for na_sentinels of -1\u001b[39;00m\n\u001b[1;32m   1578\u001b[0m     order2 \u001b[38;5;241m=\u001b[39m sorter\u001b[38;5;241m.\u001b[39margsort()\n\u001b[0;32m-> 1579\u001b[0m     new_codes \u001b[38;5;241m=\u001b[39m take_nd(order2, codes, fill_value\u001b[38;5;241m=\u001b[39m\u001b[38;5;241m-\u001b[39m\u001b[38;5;241m1\u001b[39m)\n\u001b[1;32m   1580\u001b[0m     \u001b[38;5;28;01mif\u001b[39;00m verify:\n\u001b[1;32m   1581\u001b[0m         mask \u001b[38;5;241m=\u001b[39m (codes \u001b[38;5;241m<\u001b[39m \u001b[38;5;241m-\u001b[39m\u001b[38;5;28mlen\u001b[39m(values)) \u001b[38;5;241m|\u001b[39m (codes \u001b[38;5;241m>\u001b[39m\u001b[38;5;241m=\u001b[39m \u001b[38;5;28mlen\u001b[39m(values))\n",
      "File \u001b[0;32m~/anaconda3/lib/python3.11/site-packages/pandas/core/array_algos/take.py:117\u001b[0m, in \u001b[0;36mtake_nd\u001b[0;34m(arr, indexer, axis, fill_value, allow_fill)\u001b[0m\n\u001b[1;32m    114\u001b[0m     \u001b[38;5;28;01mreturn\u001b[39;00m arr\u001b[38;5;241m.\u001b[39mtake(indexer, fill_value\u001b[38;5;241m=\u001b[39mfill_value, allow_fill\u001b[38;5;241m=\u001b[39mallow_fill)\n\u001b[1;32m    116\u001b[0m arr \u001b[38;5;241m=\u001b[39m np\u001b[38;5;241m.\u001b[39masarray(arr)\n\u001b[0;32m--> 117\u001b[0m \u001b[38;5;28;01mreturn\u001b[39;00m _take_nd_ndarray(arr, indexer, axis, fill_value, allow_fill)\n",
      "File \u001b[0;32m~/anaconda3/lib/python3.11/site-packages/pandas/core/array_algos/take.py:162\u001b[0m, in \u001b[0;36m_take_nd_ndarray\u001b[0;34m(arr, indexer, axis, fill_value, allow_fill)\u001b[0m\n\u001b[1;32m    157\u001b[0m     out \u001b[38;5;241m=\u001b[39m np\u001b[38;5;241m.\u001b[39mempty(out_shape, dtype\u001b[38;5;241m=\u001b[39mdtype)\n\u001b[1;32m    159\u001b[0m func \u001b[38;5;241m=\u001b[39m _get_take_nd_function(\n\u001b[1;32m    160\u001b[0m     arr\u001b[38;5;241m.\u001b[39mndim, arr\u001b[38;5;241m.\u001b[39mdtype, out\u001b[38;5;241m.\u001b[39mdtype, axis\u001b[38;5;241m=\u001b[39maxis, mask_info\u001b[38;5;241m=\u001b[39mmask_info\n\u001b[1;32m    161\u001b[0m )\n\u001b[0;32m--> 162\u001b[0m func(arr, indexer, out, fill_value)\n\u001b[1;32m    164\u001b[0m \u001b[38;5;28;01mif\u001b[39;00m flip_order:\n\u001b[1;32m    165\u001b[0m     out \u001b[38;5;241m=\u001b[39m out\u001b[38;5;241m.\u001b[39mT\n",
      "\u001b[0;31mKeyboardInterrupt\u001b[0m: "
     ]
    }
   ],
   "source": [
    "loan_data_dummies = [pd.get_dummies(loan_data['grade'], prefix = 'grade', prefix_sep = ':'),\n",
    "                     pd.get_dummies(loan_data['sub_grade'], prefix = 'sub_grade', prefix_sep = ':'),\n",
    "                     pd.get_dummies(loan_data['home_ownership'], prefix = 'home_ownership', prefix_sep = ':'),\n",
    "                     pd.get_dummies(loan_data['verification_status'], prefix = 'verification_status', prefix_sep = ':'),\n",
    "                     pd.get_dummies(loan_data['loan_status'], prefix = 'loan_status', prefix_sep = ':'),\n",
    "                     pd.get_dummies(loan_data['purpose'], prefix = 'purpose', prefix_sep = ':'),\n",
    "                     pd.get_dummies(loan_data['addr_state'], prefix = 'addr_state', prefix_sep = ':'),\n",
    "                     pd.get_dummies(loan_data['initial_list_status'], prefix = 'initial_list_status', prefix_sep = ':')]"
   ]
  },
  {
   "cell_type": "code",
   "execution_count": null,
   "id": "03976d4d",
   "metadata": {},
   "outputs": [],
   "source": [
    "loan_data_dummies = pd.concat(loan_data_dummies, axis = 1)"
   ]
  },
  {
   "cell_type": "code",
   "execution_count": null,
   "id": "e79ba5e7",
   "metadata": {},
   "outputs": [],
   "source": [
    "type(loan_data_dummies)"
   ]
  },
  {
   "cell_type": "code",
   "execution_count": null,
   "id": "453f208b",
   "metadata": {},
   "outputs": [],
   "source": [
    "loan_data = pd.concat([loan_data,loan_data_dummies],axis = 1)"
   ]
  },
  {
   "cell_type": "code",
   "execution_count": null,
   "id": "a1c42054",
   "metadata": {},
   "outputs": [],
   "source": [
    "loan_data.columns.values"
   ]
  },
  {
   "cell_type": "code",
   "execution_count": null,
   "id": "69085484",
   "metadata": {},
   "outputs": [],
   "source": [
    "pd.options.display.max_rows = None\n",
    "loan_data.isnull().sum().sort_values(ascending=False)"
   ]
  },
  {
   "cell_type": "code",
   "execution_count": null,
   "id": "662df009",
   "metadata": {},
   "outputs": [],
   "source": [
    "loan_data['total_rev_hi_lim'].fillna(loan_data['funded_amnt'],inplace = True)\n",
    "loan_data['total_rev_hi_lim'].isnull().sum()"
   ]
  },
  {
   "cell_type": "code",
   "execution_count": null,
   "id": "b0e0f883",
   "metadata": {},
   "outputs": [],
   "source": [
    "loan_data['mths_since_earliest_cr_line'].fillna(0,inplace = True)\n",
    "loan_data['acc_now_delinq'].fillna(0,inplace = True)\n",
    "loan_data['total_acc'].fillna(0,inplace = True)\n",
    "loan_data['pub_rec'].fillna(0,inplace = True)\n",
    "loan_data['open_acc'].fillna(0,inplace = True)\n",
    "loan_data['inq_last_6mths'].fillna(0,inplace = True)\n",
    "loan_data['delinq_2yrs'].fillna(0,inplace = True)\n",
    "loan_data['emp_length_int'].fillna(0,inplace = True)"
   ]
  },
  {
   "cell_type": "code",
   "execution_count": null,
   "id": "159c2a3f",
   "metadata": {},
   "outputs": [],
   "source": [
    "loan_data['annual_inc'].mean()"
   ]
  },
  {
   "cell_type": "code",
   "execution_count": null,
   "id": "2cd0e499",
   "metadata": {},
   "outputs": [],
   "source": [
    "np.mean(loan_data['annual_inc'])"
   ]
  },
  {
   "cell_type": "code",
   "execution_count": null,
   "id": "4a2c1059",
   "metadata": {},
   "outputs": [],
   "source": [
    "loan_data['annual_inc'].fillna(loan_data['annual_inc'].mean(),inplace = True)"
   ]
  },
  {
   "cell_type": "code",
   "execution_count": null,
   "id": "f1e36a7a",
   "metadata": {},
   "outputs": [],
   "source": [
    "loan_data['annual_inc'].isnull().sum()"
   ]
  },
  {
   "cell_type": "markdown",
   "id": "1bd1b351",
   "metadata": {},
   "source": [
    "# PD Model"
   ]
  },
  {
   "cell_type": "code",
   "execution_count": null,
   "id": "c99924d5",
   "metadata": {},
   "outputs": [],
   "source": [
    "loan_data['loan_status'].value_counts()"
   ]
  },
  {
   "cell_type": "code",
   "execution_count": null,
   "id": "8c7a9298",
   "metadata": {},
   "outputs": [],
   "source": [
    "loan_data['loan_status'].value_counts()/loan_data['loan_status'].count()"
   ]
  },
  {
   "cell_type": "code",
   "execution_count": null,
   "id": "8bf64c2e",
   "metadata": {},
   "outputs": [],
   "source": [
    "loan_data['good_bad'] = np.where(loan_data['loan_status'].isin(['Charged Off',\n",
    "                                                                'Late (31-120 days)',\n",
    "                                                                'Default',\n",
    "                                                                'Does not meet the credit policy. Status:Charged Off']),0,1)\n",
    "\n",
    "#The greater the value of the independent variable, the lower the probability of default, like credit score"
   ]
  },
  {
   "cell_type": "markdown",
   "id": "d8122ee2",
   "metadata": {},
   "source": [
    " # Splitting Data"
   ]
  },
  {
   "cell_type": "code",
   "execution_count": null,
   "id": "bec5ae54",
   "metadata": {},
   "outputs": [],
   "source": [
    "from sklearn.model_selection import train_test_split"
   ]
  },
  {
   "cell_type": "code",
   "execution_count": null,
   "id": "955f233a",
   "metadata": {},
   "outputs": [],
   "source": [
    "train_test_split(loan_data.drop('good_bad', axis = 1), loan_data['good_bad'])\n",
    "# Takes a set of inputs and a set of targets as arguments. Splits the inputs and the targets into four dataframes:\n",
    "# Inputs - Train, Inputs - Test, Targets - Train, Targets - Test."
   ]
  },
  {
   "cell_type": "code",
   "execution_count": null,
   "id": "afef4465",
   "metadata": {},
   "outputs": [],
   "source": [
    "x_train, x_test, y_train, y_test = train_test_split(loan_data.drop('good_bad', axis = 1), \n",
    "                                                    loan_data['good_bad'],\n",
    "                                                    test_size = 0.2,\n",
    "                                                    random_state = 42)"
   ]
  },
  {
   "cell_type": "code",
   "execution_count": null,
   "id": "7019ac57",
   "metadata": {},
   "outputs": [],
   "source": []
  }
 ],
 "metadata": {
  "kernelspec": {
   "display_name": "Python 3 (ipykernel)",
   "language": "python",
   "name": "python3"
  },
  "language_info": {
   "codemirror_mode": {
    "name": "ipython",
    "version": 3
   },
   "file_extension": ".py",
   "mimetype": "text/x-python",
   "name": "python",
   "nbconvert_exporter": "python",
   "pygments_lexer": "ipython3",
   "version": "3.11.5"
  }
 },
 "nbformat": 4,
 "nbformat_minor": 5
}
